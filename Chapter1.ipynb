{
 "cells": [
  {
   "cell_type": "markdown",
   "metadata": {},
   "source": [
    "# Chapter 1: Introduction to PyTorch\n",
    "\n",
    "## What is PyTorch?\n",
    "#### 1) A numpy replacement, because you can use GPUs.\n",
    "#### 2) Really good framework for deep learning, easy to pick up and flexible.\n",
    "\n",
    "\n",
    "## Installation\n",
    "#### Refer to https://pytorch.org/get-started/locally/\n",
    "\n"
   ]
  },
  {
   "cell_type": "code",
   "execution_count": 11,
   "metadata": {
    "tags": []
   },
   "outputs": [
    {
     "output_type": "stream",
     "name": "stdout",
     "text": "tensor([[-1.2127,  0.5996,  0.1455],\n        [ 2.1565,  0.0317, -3.3597],\n        [ 1.0156,  1.5986, -0.4302],\n        [ 0.4523, -0.0621,  0.4127],\n        [-0.4205, -0.5773, -0.9087]])\ntensor([[-1.2127,  0.5996,  0.1455],\n        [ 2.1565,  0.0317, -3.3597],\n        [ 1.0156,  1.5986, -0.4302],\n        [ 0.4523, -0.0621,  0.4127],\n        [-0.4205, -0.5773, -0.9087]])\ntensor([[-1.2127,  0.5996,  0.1455],\n        [ 2.1565,  0.0317, -3.3597],\n        [ 1.0156,  1.5986, -0.4302],\n        [ 0.4523, -0.0621,  0.4127],\n        [-0.4205, -0.5773, -0.9087]])\ntensor([[-1.2127,  0.5996,  0.1455],\n        [ 2.1565,  0.0317, -3.3597],\n        [ 1.0156,  1.5986, -0.4302],\n        [ 0.4523, -0.0621,  0.4127],\n        [-0.4205, -0.5773, -0.9087]])\ntensor([0, 0, 0, 0, 0])\n"
    }
   ],
   "source": [
    "# This is to test the correct installation of pytorch and demonstrate tensor declarations, operations, and mutation.\n",
    "from __future__ import print_function\n",
    "import torch\n",
    "\n",
    "x = torch.rand(5,3) # fill it with random elements\n",
    "x = torch.empty(5,3) # unintiallized elements\n",
    "x = torch.tensor([5, 4, 3, 2]) # create directly\n",
    "x = torch.zeros(5,3,dtype=torch.long) # fill it with zeros\n",
    "\n",
    "y = torch.randn_like(x, dtype=torch.float) # Use other tensor's value, override the datatype, and have a tensor of similar size\n",
    "\n",
    "# Addition operation\n",
    "print(x+y) # add two tensors\n",
    "print(torch.add(x,y)) # another way to add two tensors\n",
    "\n",
    "# Save the results in another tensor\n",
    "z = torch.empty(5, 3)\n",
    "torch.add(x, y, out = z)\n",
    "print(z)\n",
    "\n",
    "y.add_(x) # add x to y\n",
    "print(y)\n",
    "\n",
    "print(x[:, 1]) # indexing\n",
    "\n",
    "# Resizing tensors\n",
    "x1 = torch.rand(4,4)\n",
    "x2 = x1.view(16, 1)\n",
    "x3 = x1.view(-1,8)\n",
    "\n",
    "\n"
   ]
  },
  {
   "cell_type": "code",
   "execution_count": 14,
   "metadata": {
    "tags": []
   },
   "outputs": [
    {
     "output_type": "stream",
     "name": "stdout",
     "text": "tensor([1, 2, 4]) [1 2 4]\ntensor([2, 3, 5]) [2 3 5]\n"
    }
   ],
   "source": [
    "# Converting to numpy\n",
    "a = torch.tensor([1, 2, 4])\n",
    "b = a.numpy()\n",
    "print(a, b)\n",
    "a.add_(1) # Changing the tensor would change its numpy equivalent\n",
    "print(a, b)"
   ]
  },
  {
   "cell_type": "code",
   "execution_count": 16,
   "metadata": {
    "tags": []
   },
   "outputs": [
    {
     "output_type": "stream",
     "name": "stdout",
     "text": "[1. 1. 1. 1. 1.] tensor([1., 1., 1., 1., 1.], dtype=torch.float64)\n[2. 2. 2. 2. 2.] tensor([2., 2., 2., 2., 2.], dtype=torch.float64)\n"
    }
   ],
   "source": [
    "# Converting from numpy\n",
    "import numpy as np\n",
    "\n",
    "a = np.ones(5)\n",
    "b = torch.from_numpy(a)\n",
    "print(a, b)\n",
    "np.add(a, 1, out=a)\n",
    "print(a,b)"
   ]
  },
  {
   "cell_type": "code",
   "execution_count": 17,
   "metadata": {},
   "outputs": [],
   "source": [
    "# Move tensors to cuda\n",
    "if torch.cuda.is_available():\n",
    "    device = torch.device(\"cuda\")          \n",
    "    y = torch.ones_like(x, device=device) \n",
    "    x = x.to(device)            \n",
    "    z = x + y\n",
    "    print(z)\n",
    "    print(z.to(\"cpu\", torch.double)) "
   ]
  },
  {
   "cell_type": "code",
   "execution_count": null,
   "metadata": {},
   "outputs": [],
   "source": []
  }
 ],
 "metadata": {
  "kernelspec": {
   "display_name": "Python 3",
   "language": "python",
   "name": "python3"
  },
  "language_info": {
   "codemirror_mode": {
    "name": "ipython",
    "version": 3
   },
   "file_extension": ".py",
   "mimetype": "text/x-python",
   "name": "python",
   "nbconvert_exporter": "python",
   "pygments_lexer": "ipython3",
   "version": "3.7.6-final"
  }
 },
 "nbformat": 4,
 "nbformat_minor": 4
}